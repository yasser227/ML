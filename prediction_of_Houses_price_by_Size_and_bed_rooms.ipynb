{
  "nbformat": 4,
  "nbformat_minor": 0,
  "metadata": {
    "colab": {
      "name": "prediction of Houses price by Size and bed rooms",
      "provenance": [],
      "collapsed_sections": [],
      "toc_visible": true,
      "authorship_tag": "ABX9TyOKsojOwEZgumc3ierJSbFN",
      "include_colab_link": true
    },
    "kernelspec": {
      "name": "python3",
      "display_name": "Python 3"
    },
    "language_info": {
      "name": "python"
    }
  },
  "cells": [
    {
      "cell_type": "markdown",
      "metadata": {
        "id": "view-in-github",
        "colab_type": "text"
      },
      "source": [
        "<a href=\"https://colab.research.google.com/github/yasser227/ML/blob/main/prediction_of_Houses_price_by_Size_and_bed_rooms.ipynb\" target=\"_parent\"><img src=\"https://colab.research.google.com/assets/colab-badge.svg\" alt=\"Open In Colab\"/></a>"
      ]
    },
    {
      "cell_type": "code",
      "metadata": {
        "id": "6B8BLtXV1krW"
      },
      "source": [
        "import pandas as pd \n",
        "import matplotlib.pyplot as plt\n",
        "import numpy as np"
      ],
      "execution_count": null,
      "outputs": []
    },
    {
      "cell_type": "code",
      "metadata": {
        "id": "n1mmTe0ewwer",
        "colab": {
          "base_uri": "https://localhost:8080/"
        },
        "outputId": "446d7eb7-f8e1-43cf-f248-8bf337c5f69a"
      },
      "source": [
        "data=pd.read_csv('/content/ex1data2.txt',header=None, names=['Size','Bedrooms','Price'])\n",
        "print(data.head())"
      ],
      "execution_count": null,
      "outputs": [
        {
          "output_type": "stream",
          "name": "stdout",
          "text": [
            "   Size  Bedrooms   Price\n",
            "0  2104         3  399900\n",
            "1  1600         3  329900\n",
            "2  2400         3  369000\n",
            "3  1416         2  232000\n",
            "4  3000         4  539900\n"
          ]
        }
      ]
    },
    {
      "cell_type": "code",
      "metadata": {
        "colab": {
          "base_uri": "https://localhost:8080/",
          "height": 295
        },
        "id": "If-yGs3Y1mAI",
        "outputId": "0e4220a2-caf0-4f5b-b2c9-1ddb608f284b"
      },
      "source": [
        "data.describe()"
      ],
      "execution_count": null,
      "outputs": [
        {
          "output_type": "execute_result",
          "data": {
            "text/html": [
              "<div>\n",
              "<style scoped>\n",
              "    .dataframe tbody tr th:only-of-type {\n",
              "        vertical-align: middle;\n",
              "    }\n",
              "\n",
              "    .dataframe tbody tr th {\n",
              "        vertical-align: top;\n",
              "    }\n",
              "\n",
              "    .dataframe thead th {\n",
              "        text-align: right;\n",
              "    }\n",
              "</style>\n",
              "<table border=\"1\" class=\"dataframe\">\n",
              "  <thead>\n",
              "    <tr style=\"text-align: right;\">\n",
              "      <th></th>\n",
              "      <th>Size</th>\n",
              "      <th>Bedrooms</th>\n",
              "      <th>Price</th>\n",
              "    </tr>\n",
              "  </thead>\n",
              "  <tbody>\n",
              "    <tr>\n",
              "      <th>count</th>\n",
              "      <td>47.000000</td>\n",
              "      <td>47.000000</td>\n",
              "      <td>47.000000</td>\n",
              "    </tr>\n",
              "    <tr>\n",
              "      <th>mean</th>\n",
              "      <td>2000.680851</td>\n",
              "      <td>3.170213</td>\n",
              "      <td>340412.659574</td>\n",
              "    </tr>\n",
              "    <tr>\n",
              "      <th>std</th>\n",
              "      <td>794.702354</td>\n",
              "      <td>0.760982</td>\n",
              "      <td>125039.899586</td>\n",
              "    </tr>\n",
              "    <tr>\n",
              "      <th>min</th>\n",
              "      <td>852.000000</td>\n",
              "      <td>1.000000</td>\n",
              "      <td>169900.000000</td>\n",
              "    </tr>\n",
              "    <tr>\n",
              "      <th>25%</th>\n",
              "      <td>1432.000000</td>\n",
              "      <td>3.000000</td>\n",
              "      <td>249900.000000</td>\n",
              "    </tr>\n",
              "    <tr>\n",
              "      <th>50%</th>\n",
              "      <td>1888.000000</td>\n",
              "      <td>3.000000</td>\n",
              "      <td>299900.000000</td>\n",
              "    </tr>\n",
              "    <tr>\n",
              "      <th>75%</th>\n",
              "      <td>2269.000000</td>\n",
              "      <td>4.000000</td>\n",
              "      <td>384450.000000</td>\n",
              "    </tr>\n",
              "    <tr>\n",
              "      <th>max</th>\n",
              "      <td>4478.000000</td>\n",
              "      <td>5.000000</td>\n",
              "      <td>699900.000000</td>\n",
              "    </tr>\n",
              "  </tbody>\n",
              "</table>\n",
              "</div>"
            ],
            "text/plain": [
              "              Size   Bedrooms          Price\n",
              "count    47.000000  47.000000      47.000000\n",
              "mean   2000.680851   3.170213  340412.659574\n",
              "std     794.702354   0.760982  125039.899586\n",
              "min     852.000000   1.000000  169900.000000\n",
              "25%    1432.000000   3.000000  249900.000000\n",
              "50%    1888.000000   3.000000  299900.000000\n",
              "75%    2269.000000   4.000000  384450.000000\n",
              "max    4478.000000   5.000000  699900.000000"
            ]
          },
          "metadata": {},
          "execution_count": 178
        }
      ]
    },
    {
      "cell_type": "code",
      "metadata": {
        "colab": {
          "base_uri": "https://localhost:8080/"
        },
        "id": "TSFAMKqy5W9A",
        "outputId": "48bddbd6-c55e-4ed8-c1b5-843aac12e90d"
      },
      "source": [
        "# mean normalizatin \n",
        "data=(data-data.mean())/ data.std()\n",
        "print(data.describe())\n",
        "print(data.head())"
      ],
      "execution_count": null,
      "outputs": [
        {
          "output_type": "stream",
          "name": "stdout",
          "text": [
            "               Size      Bedrooms         Price\n",
            "count  4.700000e+01  4.700000e+01  4.700000e+01\n",
            "mean   1.889741e-17  2.279500e-16 -8.031401e-17\n",
            "std    1.000000e+00  1.000000e+00  1.000000e+00\n",
            "min   -1.445423e+00 -2.851859e+00 -1.363666e+00\n",
            "25%   -7.155897e-01 -2.236752e-01 -7.238702e-01\n",
            "50%   -1.417900e-01 -2.236752e-01 -3.239979e-01\n",
            "75%    3.376348e-01  1.090417e+00  3.521863e-01\n",
            "max    3.117292e+00  2.404508e+00  2.874981e+00\n",
            "       Size  Bedrooms     Price\n",
            "0  0.130010 -0.223675  0.475747\n",
            "1 -0.504190 -0.223675 -0.084074\n",
            "2  0.502476 -0.223675  0.228626\n",
            "3 -0.735723 -1.537767 -0.867025\n",
            "4  1.257476  1.090417  1.595389\n"
          ]
        }
      ]
    },
    {
      "cell_type": "code",
      "metadata": {
        "colab": {
          "base_uri": "https://localhost:8080/"
        },
        "id": "vjMoBkv96yxn",
        "outputId": "5b376751-9f7a-4441-90b8-5a435dd50c42"
      },
      "source": [
        "data.insert(0, 'x0', 1)\n",
        "\n",
        "print(data)"
      ],
      "execution_count": null,
      "outputs": [
        {
          "output_type": "stream",
          "name": "stdout",
          "text": [
            "    x0      Size  Bedrooms     Price\n",
            "0    1  0.130010 -0.223675  0.475747\n",
            "1    1 -0.504190 -0.223675 -0.084074\n",
            "2    1  0.502476 -0.223675  0.228626\n",
            "3    1 -0.735723 -1.537767 -0.867025\n",
            "4    1  1.257476  1.090417  1.595389\n",
            "5    1 -0.019732  1.090417 -0.323998\n",
            "6    1 -0.587240 -0.223675 -0.204036\n",
            "7    1 -0.721881 -0.223675 -1.130948\n",
            "8    1 -0.781023 -0.223675 -1.026973\n",
            "9    1 -0.637573 -0.223675 -0.783051\n",
            "10   1 -0.076357  1.090417 -0.803053\n",
            "11   1 -0.000857 -0.223675  0.052682\n",
            "12   1 -0.139273 -0.223675 -0.083283\n",
            "13   1  3.117292  2.404508  2.874981\n",
            "14   1 -0.921956 -0.223675 -0.643896\n",
            "15   1  0.376643  1.090417  0.875619\n",
            "16   1 -0.856523 -1.537767 -0.323998\n",
            "17   1 -0.962223 -0.223675 -1.123743\n",
            "18   1  0.765468  1.090417  1.276275\n",
            "19   1  1.296484  1.090417  2.068039\n",
            "20   1 -0.294048 -0.223675 -0.699878\n",
            "21   1 -0.141790 -1.537767 -0.683083\n",
            "22   1 -0.499157 -0.223675 -0.779852\n",
            "23   1 -0.048673  1.090417 -0.643896\n",
            "24   1  2.377392 -0.223675  1.867303\n",
            "25   1 -1.133356 -0.223675 -0.723870\n",
            "26   1 -0.682873 -0.223675  0.992382\n",
            "27   1  0.661026 -0.223675  1.028370\n",
            "28   1  0.250810 -0.223675  1.076355\n",
            "29   1  0.800701 -0.223675 -0.323998\n",
            "30   1 -0.203448 -1.537767  0.075875\n",
            "31   1 -1.259189 -2.851859 -1.363666\n",
            "32   1  0.049477  1.090417 -0.204036\n",
            "33   1  1.429868 -0.223675  1.915287\n",
            "34   1 -0.238682  1.090417 -0.435962\n",
            "35   1 -0.709298 -0.223675 -0.723870\n",
            "36   1 -0.958448 -0.223675 -0.883819\n",
            "37   1  0.165243  1.090417  0.036687\n",
            "38   1  2.786350  1.090417  1.668166\n",
            "39   1  0.202993  1.090417 -0.427165\n",
            "40   1 -0.423657 -1.537767  0.224627\n",
            "41   1  0.298626 -0.223675 -0.084074\n",
            "42   1  0.712618  1.090417 -0.211234\n",
            "43   1 -1.007523 -0.223675 -0.331196\n",
            "44   1 -1.445423 -1.537767 -1.283692\n",
            "45   1 -0.187090  1.090417 -0.323998\n",
            "46   1 -1.003748 -0.223675 -0.807044\n"
          ]
        }
      ]
    },
    {
      "cell_type": "code",
      "metadata": {
        "id": "AHkQ-cUU7z4N"
      },
      "source": [
        "cols=data.shape[1]      #3\n",
        "x=data.iloc[:,0:cols-1]\n",
        "y=data.iloc[:,cols-1:cols]\n"
      ],
      "execution_count": null,
      "outputs": []
    },
    {
      "cell_type": "code",
      "metadata": {
        "id": "dR0Ock8F_t8_"
      },
      "source": [
        "#convert x and y into matrices\n",
        "X=np.matrix(x.values)\n",
        "Y=np.matrix(y.values)\n",
        "theta=np.matrix(np.array([0,0,0]))"
      ],
      "execution_count": null,
      "outputs": []
    },
    {
      "cell_type": "code",
      "metadata": {
        "id": "-IZd8d0PDkFv"
      },
      "source": [
        "alpha=0.1\n",
        "iters=60\n"
      ],
      "execution_count": null,
      "outputs": []
    },
    {
      "cell_type": "code",
      "metadata": {
        "colab": {
          "base_uri": "https://localhost:8080/"
        },
        "id": "ZhNv1olZOYqt",
        "outputId": "eb42b80f-2bcb-4230-e792-c197620fd5ef"
      },
      "source": [
        "#cost function\n",
        "def computeCost(X, Y, theta):\n",
        "    z = np.power(((X * theta.T) - Y), 2)\n",
        "\n",
        "    return np.sum(z) / (2 * len(X))\n",
        "\n",
        "print('computeCost(X, y, theta) = ' , computeCost(X, y, theta))\n"
      ],
      "execution_count": null,
      "outputs": [
        {
          "output_type": "stream",
          "name": "stdout",
          "text": [
            "computeCost(X, y, theta) =  Price    0.489362\n",
            "dtype: float64\n"
          ]
        }
      ]
    },
    {
      "cell_type": "code",
      "metadata": {
        "colab": {
          "base_uri": "https://localhost:8080/"
        },
        "id": "OIJUeeYOEFhj",
        "outputId": "10ecfbc1-7c11-46ee-d603-fe4f042a0afb"
      },
      "source": [
        "#Gradient descent \n",
        "def gradientDescent(X, Y, theta, alpha, iters):\n",
        "    temp = np.matrix(np.zeros(theta.shape))\n",
        "    parameters = int(theta.ravel().shape[1])\n",
        "    cost = np.zeros(iters)\n",
        "    \n",
        "    for i in range(iters):\n",
        "        error = (X * theta.T) - y\n",
        "        \n",
        "        for j in range(parameters):\n",
        "            term = np.multiply(error, X[:,j])\n",
        "            temp[0,j] = theta[0,j] - ((alpha / len(X)) * np.sum(term))\n",
        "            \n",
        "        theta = temp\n",
        "        cost[i] = computeCost(X, y, theta)\n",
        "        \n",
        "    return theta, cost\n",
        "\n",
        "\n",
        "# perform gradient descent to \"fit\" the model parameters\n",
        "g, cost = gradientDescent(X, y, theta, alpha, iters)\n",
        "\n",
        "print('g = ' , g)\n",
        "print('cost  = ' , cost[0:50] )\n",
        "print('computeCost = ' , computeCost(X, y, g))\n",
        " "
      ],
      "execution_count": null,
      "outputs": [
        {
          "output_type": "stream",
          "name": "stdout",
          "text": [
            "g =  [[-1.13030153e-16  8.51323516e-01 -1.97764188e-02]]\n",
            "cost  =  [0.40693147 0.34617152 0.30110291 0.26742183 0.24202804 0.22268634\n",
            " 0.20778332 0.19615275 0.18695011 0.17956245 0.17354364 0.16856787\n",
            " 0.1643961  0.16085209 0.15780504 0.15515715 0.15283462 0.1507812\n",
            " 0.14895353 0.14731772 0.14584693 0.14451959 0.14331811 0.14222795\n",
            " 0.14123687 0.14033451 0.13951191 0.13876131 0.13807589 0.13744961\n",
            " 0.13687711 0.13635356 0.13587464 0.13543646 0.13503547 0.13466846\n",
            " 0.13433251 0.13402498 0.13374344 0.13348567 0.13324967 0.13303358\n",
            " 0.13283572 0.13265455 0.13248866 0.13233675 0.13219766 0.13207029\n",
            " 0.13195365 0.13184685]\n",
            "computeCost =  Price    0.131168\n",
            "dtype: float64\n"
          ]
        }
      ]
    },
    {
      "cell_type": "code",
      "metadata": {
        "colab": {
          "base_uri": "https://localhost:8080/"
        },
        "id": "Dgv4ogy4Qkmq",
        "outputId": "7c0b4e30-93f1-456c-c7c7-36822997a6c2"
      },
      "source": [
        "# get best fit line\n",
        "x = np.linspace(data.Size.min(), data.Size.max(), 100)\n",
        "print('x \\n',x)\n",
        "print('g \\n',g)\n",
        "\n",
        "f = g[0, 0] + (g[0, 1] * x)\n",
        "print('f \\n',f)\n",
        "\n"
      ],
      "execution_count": null,
      "outputs": [
        {
          "output_type": "stream",
          "name": "stdout",
          "text": [
            "x \n",
            " [-1.44542274 -1.39933471 -1.35324669 -1.30715866 -1.26107063 -1.21498261\n",
            " -1.16889458 -1.12280656 -1.07671853 -1.0306305  -0.98454248 -0.93845445\n",
            " -0.89236643 -0.8462784  -0.80019038 -0.75410235 -0.70801432 -0.6619263\n",
            " -0.61583827 -0.56975025 -0.52366222 -0.47757419 -0.43148617 -0.38539814\n",
            " -0.33931012 -0.29322209 -0.24713406 -0.20104604 -0.15495801 -0.10886999\n",
            " -0.06278196 -0.01669394  0.02939409  0.07548212  0.12157014  0.16765817\n",
            "  0.21374619  0.25983422  0.30592225  0.35201027  0.3980983   0.44418632\n",
            "  0.49027435  0.53636238  0.5824504   0.62853843  0.67462645  0.72071448\n",
            "  0.7668025   0.81289053  0.85897856  0.90506658  0.95115461  0.99724263\n",
            "  1.04333066  1.08941869  1.13550671  1.18159474  1.22768276  1.27377079\n",
            "  1.31985881  1.36594684  1.41203487  1.45812289  1.50421092  1.55029894\n",
            "  1.59638697  1.642475    1.68856302  1.73465105  1.78073907  1.8268271\n",
            "  1.87291513  1.91900315  1.96509118  2.0111792   2.05726723  2.10335525\n",
            "  2.14944328  2.19553131  2.24161933  2.28770736  2.33379538  2.37988341\n",
            "  2.42597144  2.47205946  2.51814749  2.56423551  2.61032354  2.65641157\n",
            "  2.70249959  2.74858762  2.79467564  2.84076367  2.88685169  2.93293972\n",
            "  2.97902775  3.02511577  3.0712038   3.11729182]\n",
            "g \n",
            " [[-1.13030153e-16  8.51323516e-01 -1.97764188e-02]]\n",
            "f \n",
            " [-1.23052237 -1.19128655 -1.15205073 -1.11281491 -1.07357909 -1.03434327\n",
            " -0.99510745 -0.95587163 -0.91663581 -0.87739998 -0.83816416 -0.79892834\n",
            " -0.75969252 -0.7204567  -0.68122088 -0.64198506 -0.60274924 -0.56351342\n",
            " -0.5242776  -0.48504178 -0.44580596 -0.40657014 -0.36733432 -0.3280985\n",
            " -0.28886268 -0.24962686 -0.21039104 -0.17115522 -0.1319194  -0.09268358\n",
            " -0.05344776 -0.01421194  0.02502388  0.0642597   0.10349552  0.14273134\n",
            "  0.18196716  0.22120298  0.2604388   0.29967462  0.33891044  0.37814626\n",
            "  0.41738208  0.4566179   0.49585372  0.53508954  0.57432536  0.61356118\n",
            "  0.652797    0.69203282  0.73126864  0.77050447  0.80974029  0.84897611\n",
            "  0.88821193  0.92744775  0.96668357  1.00591939  1.04515521  1.08439103\n",
            "  1.12362685  1.16286267  1.20209849  1.24133431  1.28057013  1.31980595\n",
            "  1.35904177  1.39827759  1.43751341  1.47674923  1.51598505  1.55522087\n",
            "  1.59445669  1.63369251  1.67292833  1.71216415  1.75139997  1.79063579\n",
            "  1.82987161  1.86910743  1.90834325  1.94757907  1.98681489  2.02605071\n",
            "  2.06528653  2.10452235  2.14375817  2.18299399  2.22222981  2.26146563\n",
            "  2.30070145  2.33993727  2.37917309  2.41840891  2.45764474  2.49688056\n",
            "  2.53611638  2.5753522   2.61458802  2.65382384]\n"
          ]
        }
      ]
    },
    {
      "cell_type": "code",
      "metadata": {
        "colab": {
          "base_uri": "https://localhost:8080/",
          "height": 367
        },
        "id": "_j9phJ8ZR6jS",
        "outputId": "56ec1d05-1e4e-40a6-e8db-89b7693ab3f5"
      },
      "source": [
        "fig, ax = plt.subplots(figsize=(5,5))\n",
        "ax.plot(x, f, 'r', label='Prediction')\n",
        "ax.scatter(data.Size, data.Price , label='Traning Data')\n",
        "ax.legend(loc=2)\n",
        "ax.set_xlabel('Size')\n",
        "ax.set_ylabel('Price')\n",
        "ax.set_title('Predicted Size vs Price')"
      ],
      "execution_count": null,
      "outputs": [
        {
          "output_type": "execute_result",
          "data": {
            "text/plain": [
              "Text(0.5, 1.0, 'Predicted Size vs Price')"
            ]
          },
          "metadata": {},
          "execution_count": 187
        },
        {
          "output_type": "display_data",
          "data": {
            "image/png": "[encoded data removed]",
            "text/plain": [
              "<Figure size 360x360 with 1 Axes>"
            ]
          },
          "metadata": {
            "needs_background": "light"
          }
        }
      ]
    },
    {
      "cell_type": "code",
      "metadata": {
        "colab": {
          "base_uri": "https://localhost:8080/"
        },
        "id": "n_iKdv0fSV5B",
        "outputId": "73656287-8543-4955-bd21-0ac8f1c0ee5e"
      },
      "source": [
        "x = np.linspace(data.Bedrooms.min(), data.Bedrooms.max(), 100)\n",
        "print('x \\n',x)\n",
        "print('g \\n',g)\n",
        "\n",
        "f = g[0, 0] + (g[0, 1] * x)\n",
        "print('f \\n',f)\n"
      ],
      "execution_count": null,
      "outputs": [
        {
          "output_type": "stream",
          "name": "stdout",
          "text": [
            "x \n",
            " [-2.85185864 -2.79876402 -2.74566941 -2.69257479 -2.63948018 -2.58638556\n",
            " -2.53329095 -2.48019633 -2.42710172 -2.3740071  -2.32091249 -2.26781787\n",
            " -2.21472325 -2.16162864 -2.10853402 -2.05543941 -2.00234479 -1.94925018\n",
            " -1.89615556 -1.84306095 -1.78996633 -1.73687172 -1.6837771  -1.63068249\n",
            " -1.57758787 -1.52449326 -1.47139864 -1.41830403 -1.36520941 -1.3121148\n",
            " -1.25902018 -1.20592557 -1.15283095 -1.09973634 -1.04664172 -0.99354711\n",
            " -0.94045249 -0.88735788 -0.83426326 -0.78116865 -0.72807403 -0.67497942\n",
            " -0.6218848  -0.56879019 -0.51569557 -0.46260096 -0.40950634 -0.35641173\n",
            " -0.30331711 -0.25022249 -0.19712788 -0.14403326 -0.09093865 -0.03784403\n",
            "  0.01525058  0.0683452   0.12143981  0.17453443  0.22762904  0.28072366\n",
            "  0.33381827  0.38691289  0.4400075   0.49310212  0.54619673  0.59929135\n",
            "  0.65238596  0.70548058  0.75857519  0.81166981  0.86476442  0.91785904\n",
            "  0.97095365  1.02404827  1.07714288  1.1302375   1.18333211  1.23642673\n",
            "  1.28952134  1.34261596  1.39571057  1.44880519  1.5018998   1.55499442\n",
            "  1.60808904  1.66118365  1.71427827  1.76737288  1.8204675   1.87356211\n",
            "  1.92665673  1.97975134  2.03284596  2.08594057  2.13903519  2.1921298\n",
            "  2.24522442  2.29831903  2.35141365  2.40450826]\n",
            "g \n",
            " [[-1.13030153e-16  8.51323516e-01 -1.97764188e-02]]\n",
            "f \n",
            " [-2.42785432 -2.38265363 -2.33745293 -2.29225224 -2.24705154 -2.20185085\n",
            " -2.15665016 -2.11144946 -2.06624877 -2.02104807 -1.97584738 -1.93064668\n",
            " -1.88544599 -1.84024529 -1.7950446  -1.74984391 -1.70464321 -1.65944252\n",
            " -1.61424182 -1.56904113 -1.52384043 -1.47863974 -1.43343904 -1.38823835\n",
            " -1.34303766 -1.29783696 -1.25263627 -1.20743557 -1.16223488 -1.11703418\n",
            " -1.07183349 -1.02663279 -0.9814321  -0.93623141 -0.89103071 -0.84583002\n",
            " -0.80062932 -0.75542863 -0.71022793 -0.66502724 -0.61982654 -0.57462585\n",
            " -0.52942516 -0.48422446 -0.43902377 -0.39382307 -0.34862238 -0.30342168\n",
            " -0.25822099 -0.21302029 -0.1678196  -0.12261891 -0.07741821 -0.03221752\n",
            "  0.01298318  0.05818387  0.10338457  0.14858526  0.19378596  0.23898665\n",
            "  0.28418734  0.32938804  0.37458873  0.41978943  0.46499012  0.51019082\n",
            "  0.55539151  0.60059221  0.6457929   0.69099359  0.73619429  0.78139498\n",
            "  0.82659568  0.87179637  0.91699707  0.96219776  1.00739846  1.05259915\n",
            "  1.09779984  1.14300054  1.18820123  1.23340193  1.27860262  1.32380332\n",
            "  1.36900401  1.41420471  1.4594054   1.5046061   1.54980679  1.59500748\n",
            "  1.64020818  1.68540887  1.73060957  1.77581026  1.82101096  1.86621165\n",
            "  1.91141235  1.95661304  2.00181373  2.04701443]\n"
          ]
        }
      ]
    },
    {
      "cell_type": "code",
      "metadata": {
        "colab": {
          "base_uri": "https://localhost:8080/",
          "height": 367
        },
        "id": "5as04idqTEt4",
        "outputId": "0a057d35-743c-448b-e4b5-50bc0adf1db5"
      },
      "source": [
        "fig, ax = plt.subplots(figsize=(5,5))\n",
        "ax.plot(x, f, 'r', label='Prediction')\n",
        "ax.scatter(data.Bedrooms, data.Price , label='Traning Data')\n",
        "ax.legend(loc=2)\n",
        "ax.set_xlabel('bedrooms')\n",
        "ax.set_ylabel('price')\n",
        "ax.set_title(' bedrooms vs. price')"
      ],
      "execution_count": null,
      "outputs": [
        {
          "output_type": "execute_result",
          "data": {
            "text/plain": [
              "Text(0.5, 1.0, ' bedrooms vs. price')"
            ]
          },
          "metadata": {},
          "execution_count": 189
        },
        {
          "output_type": "display_data",
          "data": {
            "image/png": "[encoded data removed]",
            "text/plain": [
              "<Figure size 360x360 with 1 Axes>"
            ]
          },
          "metadata": {
            "needs_background": "light"
          }
        }
      ]
    },
    {
      "cell_type": "code",
      "metadata": {
        "colab": {
          "base_uri": "https://localhost:8080/",
          "height": 367
        },
        "id": "ssvKY5MdTYDX",
        "outputId": "4e12f6e7-2896-46b1-9747-ab20638c0877"
      },
      "source": [
        "fig, ax = plt.subplots(figsize=(5,5))\n",
        "ax.plot(np.arange(iters), cost, 'r')\n",
        "ax.set_xlabel('Iterations')\n",
        "ax.set_ylabel('Cost')\n",
        "ax.set_title('Error vs. Training Epoch')"
      ],
      "execution_count": null,
      "outputs": [
        {
          "output_type": "execute_result",
          "data": {
            "text/plain": [
              "Text(0.5, 1.0, 'Error vs. Training Epoch')"
            ]
          },
          "metadata": {},
          "execution_count": 190
        },
        {
          "output_type": "display_data",
          "data": {
            "image/png": "[encoded data removed]",
            "text/plain": [
              "<Figure size 360x360 with 1 Axes>"
            ]
          },
          "metadata": {
            "needs_background": "light"
          }
        }
      ]
    }
  ]
}